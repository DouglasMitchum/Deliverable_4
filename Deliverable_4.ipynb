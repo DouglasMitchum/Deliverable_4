{
  "nbformat": 4,
  "nbformat_minor": 0,
  "metadata": {
    "colab": {
      "provenance": []
    },
    "kernelspec": {
      "name": "python3",
      "display_name": "Python 3"
    },
    "language_info": {
      "name": "python"
    }
  },
  "cells": [
    {
      "cell_type": "code",
      "source": [
        "import numpy as np"
      ],
      "metadata": {
        "id": "JQ7VA6XUIHHD"
      },
      "execution_count": 73,
      "outputs": []
    },
    {
      "cell_type": "code",
      "source": [
        "#define method_1 to create a list of random numbers between 10 and 50\n",
        "def method_1(input):\n",
        " return list(np.random.randint(10,50,input))"
      ],
      "metadata": {
        "id": "DgfQIIP1IY80"
      },
      "execution_count": 74,
      "outputs": []
    },
    {
      "cell_type": "code",
      "source": [
        "#define method_2 to sum the list of numbers\n",
        "list1 = method_1(input=y)\n",
        "def method_2(list1):\n",
        "  return sum(list1)"
      ],
      "metadata": {
        "id": "LinGKCOwDCpb"
      },
      "execution_count": 75,
      "outputs": []
    },
    {
      "cell_type": "code",
      "source": [
        "#obtain user input for length of list\n",
        "y = int(input('Enter an integer between 5 and 15: '))\n",
        "if y>=5 and y<=15:\n",
        "  print(\"The elements of the arrays are:\", list1)\n",
        "  print(\"The sum is:\", method_2(list1))\n",
        "  print(\"end\")\n",
        "\n",
        "else:\n",
        "  int(input('Enter an integer between 5 and 15: '))"
      ],
      "metadata": {
        "colab": {
          "base_uri": "https://localhost:8080/"
        },
        "id": "N_LJ6QjU1ol4",
        "outputId": "1a7fd3db-d1b6-4122-a49f-f722b5df9b6b"
      },
      "execution_count": 76,
      "outputs": [
        {
          "output_type": "stream",
          "name": "stdout",
          "text": [
            "Enter an integer between 5 and 15: 5\n",
            "The elements of the arrays are: [49, 35, 37, 10, 33]\n",
            "The sum is: 164\n",
            "end\n"
          ]
        }
      ]
    }
  ]
}